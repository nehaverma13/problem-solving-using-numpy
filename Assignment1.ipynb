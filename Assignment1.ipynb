{
  "nbformat": 4,
  "nbformat_minor": 0,
  "metadata": {
    "colab": {
      "provenance": [],
      "authorship_tag": "ABX9TyM46FZhFnOVDKyVtGi79S11",
      "include_colab_link": true
    },
    "kernelspec": {
      "name": "python3",
      "display_name": "Python 3"
    },
    "language_info": {
      "name": "python"
    }
  },
  "cells": [
    {
      "cell_type": "markdown",
      "metadata": {
        "id": "view-in-github",
        "colab_type": "text"
      },
      "source": [
        "<a href=\"https://colab.research.google.com/github/nehaverma13/problem-solving-using-numpy/blob/main/Assignment1.ipynb\" target=\"_parent\"><img src=\"https://colab.research.google.com/assets/colab-badge.svg\" alt=\"Open In Colab\"/></a>"
      ]
    },
    {
      "cell_type": "markdown",
      "source": [
        "##write a Numpy program to multiply a 5*3 matrix by a 3*2 matrix and create a real matrix product"
      ],
      "metadata": {
        "id": "ya7Zx0hswMua"
      }
    },
    {
      "cell_type": "code",
      "execution_count": null,
      "metadata": {
        "colab": {
          "base_uri": "https://localhost:8080/"
        },
        "id": "NML2OC1GwG15",
        "outputId": "cdd7cad6-6531-4df3-a22a-1a41b67e7d17"
      },
      "outputs": [
        {
          "output_type": "stream",
          "name": "stdout",
          "text": [
            "first array :\n",
            "[[0.57444036 0.24592197 0.89759831]\n",
            " [0.91614544 0.71529703 0.58267364]\n",
            " [0.46630336 0.24209527 0.65512189]\n",
            " [0.16832756 0.00908886 0.46796793]\n",
            " [0.04078163 0.60894664 0.47475153]]\n",
            "second array:\n",
            "[[0.58749134 0.72792329]\n",
            " [0.76518851 0.73482157]\n",
            " [0.64596555 0.00250212]]\n",
            "dot product of two array:\n",
            "[[1.10547299 0.60110318]\n",
            " [1.46195168 1.19395721]\n",
            " [0.88238388 0.51896909]\n",
            " [0.40813684 0.13037915]\n",
            " [0.79659096 0.47834091]]\n"
          ]
        }
      ],
      "source": [
        "import numpy as np\n",
        "arr1= np.random.random((5,3))\n",
        "print(\"first array :\")\n",
        "print(arr1)\n",
        "arr2=np.random.random((3,2))\n",
        "print(\"second array:\")\n",
        "print(arr2)\n",
        "arr3=np.dot(arr1,arr2)\n",
        "print(\"dot product of two array:\")\n",
        "print(arr3)\n"
      ]
    },
    {
      "cell_type": "markdown",
      "source": [
        "### Write a NumPy program to check if each element of an array of your\n",
        "###choice is composed of digits, lower case letters, and upper case letters only"
      ],
      "metadata": {
        "id": "dH5MXAIvyeJy"
      }
    },
    {
      "cell_type": "code",
      "source": [
        "ar=np.array(['Python','PHP','JS','Examples','html5','5'])\n",
        "            "
      ],
      "metadata": {
        "id": "ZvMNGGa52VYd"
      },
      "execution_count": null,
      "outputs": []
    },
    {
      "cell_type": "code",
      "source": [
        "ar"
      ],
      "metadata": {
        "colab": {
          "base_uri": "https://localhost:8080/"
        },
        "id": "zsjQaxgd20SX",
        "outputId": "2d06348d-72a3-48a7-e5b3-3c8474cce307"
      },
      "execution_count": null,
      "outputs": [
        {
          "output_type": "execute_result",
          "data": {
            "text/plain": [
              "array(['Python', 'PHP', 'JS', 'Examples', 'html5', '5'], dtype='<U8')"
            ]
          },
          "metadata": {},
          "execution_count": 20
        }
      ]
    },
    {
      "cell_type": "code",
      "source": [
        "print(\"original array:\",ar)"
      ],
      "metadata": {
        "colab": {
          "base_uri": "https://localhost:8080/"
        },
        "id": "ZOvgVBEB3MJB",
        "outputId": "1aa059f9-3b1b-4a7d-cf3b-a506a874ae4a"
      },
      "execution_count": null,
      "outputs": [
        {
          "output_type": "stream",
          "name": "stdout",
          "text": [
            "original array: ['Python' 'PHP' 'JS' 'Examples' 'html5' '5']\n"
          ]
        }
      ]
    },
    {
      "cell_type": "code",
      "source": [
        "c1=np.char.isdigit(ar)\n",
        "c2=np.char.islower(ar)\n",
        "c3=np.char.isupper(ar)\n",
        "print(\"digits only=\",c1)\n",
        "print(\"lowercase only=\",c2)\n",
        "print(\"uppercase only=\",c3)"
      ],
      "metadata": {
        "colab": {
          "base_uri": "https://localhost:8080/"
        },
        "id": "KX7aXTaK3nEF",
        "outputId": "83e8027d-8f3b-48bc-8b80-cf9b281de56b"
      },
      "execution_count": null,
      "outputs": [
        {
          "output_type": "stream",
          "name": "stdout",
          "text": [
            "digits only= [False False False False False  True]\n",
            "lowercase only= [False False False False  True False]\n",
            "uppercase only= [False  True  True False False False]\n"
          ]
        }
      ]
    },
    {
      "cell_type": "markdown",
      "source": [
        "###Write a program that reads two space-separated positive integers 𝑋 and\n",
        "###𝑌 as input and perform the following tasks:\n",
        "Tasks to be performed:\n",
        "1. Create a list (lst1) starting at one (1) with 16 elements at a step of 𝑋\n",
        "2. Create a list (lst2) starting at one (1) with 16 elements at a step of 𝑌\n",
        "3. Create two NumPy arrays np1 and np2 using lst1 and lst2 respectively\n",
        "4. Reshape both the NumPy arrays to (4,4)\n",
        "5. Create a new np array (np3) with values obtained by subtracting both the arrays (np1 -\n",
        "np2)\n",
        "6. Print all the elements of np3 in a single dimension list like the format as shown below:\n",
        "a. [n0 n1 n2 n3 n4 n5 n6 n7 n8]"
      ],
      "metadata": {
        "id": "ma21ny-i8FKi"
      }
    },
    {
      "cell_type": "code",
      "source": [
        "import numpy as np\n",
        "x,y=input(\"enter two space-separated positive integer x and y\").split(\" \")\n",
        "print(\"x=\",int(x))\n",
        "print(\"y=\",int(y))\n",
        "z=(16*int(x))+1\n",
        "w=(16*int(y))+1\n",
        "lst1=list(range(1,z,int(x)))\n",
        "lst2=list(range(1,w,int(y)))\n",
        "print(lst1)\n",
        "print(lst2)"
      ],
      "metadata": {
        "id": "160NyYUh8Rs6",
        "colab": {
          "base_uri": "https://localhost:8080/"
        },
        "outputId": "06bb3bf6-17bf-409f-d52a-c435e0ba3e3e"
      },
      "execution_count": 17,
      "outputs": [
        {
          "output_type": "stream",
          "name": "stdout",
          "text": [
            "enter two space-separated positive integer x and y7 9\n",
            "x= 7\n",
            "y= 9\n",
            "[1, 8, 15, 22, 29, 36, 43, 50, 57, 64, 71, 78, 85, 92, 99, 106]\n",
            "[1, 10, 19, 28, 37, 46, 55, 64, 73, 82, 91, 100, 109, 118, 127, 136]\n"
          ]
        }
      ]
    },
    {
      "cell_type": "code",
      "source": [
        "np1=np.array([lst1])\n",
        "np1"
      ],
      "metadata": {
        "colab": {
          "base_uri": "https://localhost:8080/"
        },
        "id": "DvkBSrHmav4d",
        "outputId": "297be0cd-cf52-418c-a0bd-5d3c1bda525b"
      },
      "execution_count": 20,
      "outputs": [
        {
          "output_type": "execute_result",
          "data": {
            "text/plain": [
              "array([[  1,   8,  15,  22,  29,  36,  43,  50,  57,  64,  71,  78,  85,\n",
              "         92,  99, 106]])"
            ]
          },
          "metadata": {},
          "execution_count": 20
        }
      ]
    },
    {
      "cell_type": "code",
      "source": [
        "np2=np.array([lst2])\n",
        "np2"
      ],
      "metadata": {
        "colab": {
          "base_uri": "https://localhost:8080/"
        },
        "id": "PCD7nwqga6Cv",
        "outputId": "70db57ff-46a1-4f6b-dd53-ddc2d93e00cc"
      },
      "execution_count": 21,
      "outputs": [
        {
          "output_type": "execute_result",
          "data": {
            "text/plain": [
              "array([[  1,  10,  19,  28,  37,  46,  55,  64,  73,  82,  91, 100, 109,\n",
              "        118, 127, 136]])"
            ]
          },
          "metadata": {},
          "execution_count": 21
        }
      ]
    },
    {
      "cell_type": "code",
      "source": [
        "twonumpyarr=([lst1],[lst2])"
      ],
      "metadata": {
        "id": "uehzaoQf98rO"
      },
      "execution_count": 18,
      "outputs": []
    },
    {
      "cell_type": "code",
      "source": [
        "twonumpyarr"
      ],
      "metadata": {
        "colab": {
          "base_uri": "https://localhost:8080/"
        },
        "id": "94LfjGZc-3Vp",
        "outputId": "4506d1fa-a627-4529-c485-039ea780c0c9"
      },
      "execution_count": 19,
      "outputs": [
        {
          "output_type": "execute_result",
          "data": {
            "text/plain": [
              "([[1, 8, 15, 22, 29, 36, 43, 50, 57, 64, 71, 78, 85, 92, 99, 106]],\n",
              " [[1, 10, 19, 28, 37, 46, 55, 64, 73, 82, 91, 100, 109, 118, 127, 136]])"
            ]
          },
          "metadata": {},
          "execution_count": 19
        }
      ]
    },
    {
      "cell_type": "code",
      "source": [
        "ar1=np1.reshape((4,4))"
      ],
      "metadata": {
        "id": "InltyBOb-5Vx"
      },
      "execution_count": 22,
      "outputs": []
    },
    {
      "cell_type": "code",
      "source": [
        "ar1"
      ],
      "metadata": {
        "colab": {
          "base_uri": "https://localhost:8080/"
        },
        "id": "YTaLk_2TACYa",
        "outputId": "400c9b54-834b-4b0a-dcbd-e33c536369bf"
      },
      "execution_count": 23,
      "outputs": [
        {
          "output_type": "execute_result",
          "data": {
            "text/plain": [
              "array([[  1,   8,  15,  22],\n",
              "       [ 29,  36,  43,  50],\n",
              "       [ 57,  64,  71,  78],\n",
              "       [ 85,  92,  99, 106]])"
            ]
          },
          "metadata": {},
          "execution_count": 23
        }
      ]
    },
    {
      "cell_type": "code",
      "source": [
        "ar2=np2.reshape((4,4))"
      ],
      "metadata": {
        "id": "o-JQLXibAV6s"
      },
      "execution_count": 24,
      "outputs": []
    },
    {
      "cell_type": "code",
      "source": [
        "ar2"
      ],
      "metadata": {
        "colab": {
          "base_uri": "https://localhost:8080/"
        },
        "id": "uX8CeEwdAlYg",
        "outputId": "94d4268f-faba-4ae9-8161-8a3953dd6be2"
      },
      "execution_count": 25,
      "outputs": [
        {
          "output_type": "execute_result",
          "data": {
            "text/plain": [
              "array([[  1,  10,  19,  28],\n",
              "       [ 37,  46,  55,  64],\n",
              "       [ 73,  82,  91, 100],\n",
              "       [109, 118, 127, 136]])"
            ]
          },
          "metadata": {},
          "execution_count": 25
        }
      ]
    },
    {
      "cell_type": "code",
      "source": [
        "ar1=np.array([[[[1,8,15,22],[29,36,43,50],[57,64,71,78],[85,92,99,106]]]])\n",
        "ar2=np.array([[[[1,10,19,28],[37,46,55,64],[73,82,91,100],[109,118,127,136]]]])\n",
        "np3=np.subtract(ar1,ar2)\n"
      ],
      "metadata": {
        "id": "L8Lq2fvYAnXo"
      },
      "execution_count": 26,
      "outputs": []
    },
    {
      "cell_type": "code",
      "source": [
        "np3"
      ],
      "metadata": {
        "colab": {
          "base_uri": "https://localhost:8080/"
        },
        "id": "YvA-JeKiBvHF",
        "outputId": "7397206a-e33b-4bcb-fc43-3f5906c11143"
      },
      "execution_count": 27,
      "outputs": [
        {
          "output_type": "execute_result",
          "data": {
            "text/plain": [
              "array([[[[  0,  -2,  -4,  -6],\n",
              "         [ -8, -10, -12, -14],\n",
              "         [-16, -18, -20, -22],\n",
              "         [-24, -26, -28, -30]]]])"
            ]
          },
          "metadata": {},
          "execution_count": 27
        }
      ]
    },
    {
      "cell_type": "markdown",
      "source": [
        "###: Write a Python program that takes two integer-NumPy arrays, 𝑃 and 𝑄 of shape [3 ∗ 3] and perform the following task:\n",
        "###Task to be performed Print the element-wise difference of the matrix 𝑃 and 𝑄 (𝑃 − 𝑄)."
      ],
      "metadata": {
        "id": "vBuBqjnbFTms"
      }
    },
    {
      "cell_type": "code",
      "source": [
        "P=np.array([23,56,87,3,6, 96, 4, 6, 78])\n",
        "P"
      ],
      "metadata": {
        "colab": {
          "base_uri": "https://localhost:8080/"
        },
        "id": "pM9YNiZPE-EH",
        "outputId": "67bed57e-7ae7-4897-a38d-41df350e289a"
      },
      "execution_count": 47,
      "outputs": [
        {
          "output_type": "execute_result",
          "data": {
            "text/plain": [
              "array([23, 56, 87,  3,  6, 96,  4,  6, 78])"
            ]
          },
          "metadata": {},
          "execution_count": 47
        }
      ]
    },
    {
      "cell_type": "code",
      "source": [
        "Q=np.array([12,34,54 ,7, 2, 54, 6, 2, 78])\n",
        "Q"
      ],
      "metadata": {
        "colab": {
          "base_uri": "https://localhost:8080/"
        },
        "id": "_KyYTQfIIdeq",
        "outputId": "c635616e-70c6-44bc-b0c9-95719a461a8b"
      },
      "execution_count": 48,
      "outputs": [
        {
          "output_type": "execute_result",
          "data": {
            "text/plain": [
              "array([12, 34, 54,  7,  2, 54,  6,  2, 78])"
            ]
          },
          "metadata": {},
          "execution_count": 48
        }
      ]
    },
    {
      "cell_type": "code",
      "source": [
        "minus=np.subtract(P,Q)"
      ],
      "metadata": {
        "id": "IsgtNgNBIwO9"
      },
      "execution_count": 49,
      "outputs": []
    },
    {
      "cell_type": "code",
      "source": [
        "arr=np.array([[[11,22,33],[-4,4,42],[-2,4,0]]])\n",
        "arr"
      ],
      "metadata": {
        "colab": {
          "base_uri": "https://localhost:8080/"
        },
        "id": "BuRLrXKTKkfc",
        "outputId": "2dc37379-711f-49c7-8be6-29465a2c25d3"
      },
      "execution_count": null,
      "outputs": [
        {
          "output_type": "execute_result",
          "data": {
            "text/plain": [
              "array([[[11, 22, 33],\n",
              "        [-4,  4, 42],\n",
              "        [-2,  4,  0]]])"
            ]
          },
          "metadata": {},
          "execution_count": 84
        }
      ]
    },
    {
      "cell_type": "code",
      "source": [],
      "metadata": {
        "id": "xs2Iz3EDL_eK"
      },
      "execution_count": null,
      "outputs": []
    }
  ]
}